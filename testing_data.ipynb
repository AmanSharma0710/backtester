{
 "cells": [
  {
   "cell_type": "code",
   "execution_count": 1,
   "metadata": {},
   "outputs": [],
   "source": [
    "import numpy as np\n",
    "import pandas as pd"
   ]
  },
  {
   "cell_type": "code",
   "execution_count": 2,
   "metadata": {},
   "outputs": [],
   "source": [
    "data = pd.read_csv('banknifty_options_2020_2021.csv', low_memory=False)"
   ]
  },
  {
   "cell_type": "code",
   "execution_count": 3,
   "metadata": {},
   "outputs": [
    {
     "data": {
      "text/html": [
       "<div>\n",
       "<style scoped>\n",
       "    .dataframe tbody tr th:only-of-type {\n",
       "        vertical-align: middle;\n",
       "    }\n",
       "\n",
       "    .dataframe tbody tr th {\n",
       "        vertical-align: top;\n",
       "    }\n",
       "\n",
       "    .dataframe thead th {\n",
       "        text-align: right;\n",
       "    }\n",
       "</style>\n",
       "<table border=\"1\" class=\"dataframe\">\n",
       "  <thead>\n",
       "    <tr style=\"text-align: right;\">\n",
       "      <th></th>\n",
       "      <th>Ticker</th>\n",
       "      <th>Date</th>\n",
       "      <th>Time</th>\n",
       "      <th>Open</th>\n",
       "      <th>High</th>\n",
       "      <th>Low</th>\n",
       "      <th>Close</th>\n",
       "      <th>Volume</th>\n",
       "      <th>Open_Interest</th>\n",
       "    </tr>\n",
       "  </thead>\n",
       "  <tbody>\n",
       "    <tr>\n",
       "      <th>21166942</th>\n",
       "      <td>BANKNIFTY-III.NFO</td>\n",
       "      <td>2021-05-27</td>\n",
       "      <td>15:26:59.0000000</td>\n",
       "      <td>35490.0</td>\n",
       "      <td>35494.95</td>\n",
       "      <td>35485.0</td>\n",
       "      <td>35491.15</td>\n",
       "      <td>325</td>\n",
       "      <td>52925</td>\n",
       "    </tr>\n",
       "    <tr>\n",
       "      <th>21166943</th>\n",
       "      <td>BANKNIFTY-III.NFO</td>\n",
       "      <td>2021-05-27</td>\n",
       "      <td>15:27:59.0000000</td>\n",
       "      <td>35491.15</td>\n",
       "      <td>35517.0</td>\n",
       "      <td>35491.15</td>\n",
       "      <td>35500.75</td>\n",
       "      <td>1300</td>\n",
       "      <td>52925</td>\n",
       "    </tr>\n",
       "    <tr>\n",
       "      <th>21166944</th>\n",
       "      <td>BANKNIFTY-III.NFO</td>\n",
       "      <td>2021-05-27</td>\n",
       "      <td>15:28:59.0000000</td>\n",
       "      <td>35500.75</td>\n",
       "      <td>35515.75</td>\n",
       "      <td>35480.05</td>\n",
       "      <td>35480.05</td>\n",
       "      <td>825</td>\n",
       "      <td>53575</td>\n",
       "    </tr>\n",
       "    <tr>\n",
       "      <th>21166945</th>\n",
       "      <td>BANKNIFTY-III.NFO</td>\n",
       "      <td>2021-05-27</td>\n",
       "      <td>15:29:59.0000000</td>\n",
       "      <td>35480.05</td>\n",
       "      <td>35489.2</td>\n",
       "      <td>35470.1</td>\n",
       "      <td>35470.95</td>\n",
       "      <td>850</td>\n",
       "      <td>53575</td>\n",
       "    </tr>\n",
       "    <tr>\n",
       "      <th>21166946</th>\n",
       "      <td>BANKNIFTY-III.NFO</td>\n",
       "      <td>2021-05-27</td>\n",
       "      <td>15:30:59.0000000</td>\n",
       "      <td>35489.2</td>\n",
       "      <td>35489.2</td>\n",
       "      <td>35489.2</td>\n",
       "      <td>35489.2</td>\n",
       "      <td>25</td>\n",
       "      <td>53575</td>\n",
       "    </tr>\n",
       "  </tbody>\n",
       "</table>\n",
       "</div>"
      ],
      "text/plain": [
       "                     Ticker        Date              Time      Open      High  \\\n",
       "21166942  BANKNIFTY-III.NFO  2021-05-27  15:26:59.0000000   35490.0  35494.95   \n",
       "21166943  BANKNIFTY-III.NFO  2021-05-27  15:27:59.0000000  35491.15   35517.0   \n",
       "21166944  BANKNIFTY-III.NFO  2021-05-27  15:28:59.0000000  35500.75  35515.75   \n",
       "21166945  BANKNIFTY-III.NFO  2021-05-27  15:29:59.0000000  35480.05   35489.2   \n",
       "21166946  BANKNIFTY-III.NFO  2021-05-27  15:30:59.0000000   35489.2   35489.2   \n",
       "\n",
       "               Low     Close Volume Open_Interest  \n",
       "21166942   35485.0  35491.15    325         52925  \n",
       "21166943  35491.15  35500.75   1300         52925  \n",
       "21166944  35480.05  35480.05    825         53575  \n",
       "21166945   35470.1  35470.95    850         53575  \n",
       "21166946   35489.2   35489.2     25         53575  "
      ]
     },
     "execution_count": 3,
     "metadata": {},
     "output_type": "execute_result"
    }
   ],
   "source": [
    "data.tail()"
   ]
  },
  {
   "cell_type": "code",
   "execution_count": 4,
   "metadata": {},
   "outputs": [
    {
     "data": {
      "text/plain": [
       "Index(['Ticker', 'Date', 'Time', 'Open', 'High', 'Low', 'Close', 'Volume',\n",
       "       'Open_Interest'],\n",
       "      dtype='object')"
      ]
     },
     "execution_count": 4,
     "metadata": {},
     "output_type": "execute_result"
    }
   ],
   "source": [
    "data.columns"
   ]
  },
  {
   "cell_type": "code",
   "execution_count": 15,
   "metadata": {},
   "outputs": [
    {
     "data": {
      "text/html": [
       "<div>\n",
       "<style scoped>\n",
       "    .dataframe tbody tr th:only-of-type {\n",
       "        vertical-align: middle;\n",
       "    }\n",
       "\n",
       "    .dataframe tbody tr th {\n",
       "        vertical-align: top;\n",
       "    }\n",
       "\n",
       "    .dataframe thead th {\n",
       "        text-align: right;\n",
       "    }\n",
       "</style>\n",
       "<table border=\"1\" class=\"dataframe\">\n",
       "  <thead>\n",
       "    <tr style=\"text-align: right;\">\n",
       "      <th></th>\n",
       "      <th>Ticker</th>\n",
       "      <th>Date</th>\n",
       "      <th>Time</th>\n",
       "      <th>Open</th>\n",
       "      <th>High</th>\n",
       "      <th>Low</th>\n",
       "      <th>Close</th>\n",
       "      <th>Volume</th>\n",
       "      <th>Open_Interest</th>\n",
       "    </tr>\n",
       "  </thead>\n",
       "  <tbody>\n",
       "    <tr>\n",
       "      <th>9602989</th>\n",
       "      <td>BANKNIFTY26NOV2029000CE.NFO</td>\n",
       "      <td>2020-51-11</td>\n",
       "      <td>10:50:59</td>\n",
       "      <td>818.3</td>\n",
       "      <td>819.6</td>\n",
       "      <td>800.0</td>\n",
       "      <td>819.6</td>\n",
       "      <td>5575</td>\n",
       "      <td>177525</td>\n",
       "    </tr>\n",
       "  </tbody>\n",
       "</table>\n",
       "</div>"
      ],
      "text/plain": [
       "                              Ticker        Date      Time   Open   High  \\\n",
       "9602989  BANKNIFTY26NOV2029000CE.NFO  2020-51-11  10:50:59  818.3  819.6   \n",
       "\n",
       "           Low  Close Volume Open_Interest  \n",
       "9602989  800.0  819.6   5575        177525  "
      ]
     },
     "execution_count": 15,
     "metadata": {},
     "output_type": "execute_result"
    }
   ],
   "source": [
    "data[data['Date'].str.contains('51')]"
   ]
  },
  {
   "cell_type": "code",
   "execution_count": 5,
   "metadata": {},
   "outputs": [],
   "source": [
    "data['Date'][9602867] = '2020-11-10'"
   ]
  },
  {
   "cell_type": "code",
   "execution_count": 6,
   "metadata": {},
   "outputs": [],
   "source": [
    "data['Date'][9602989] = data['Date'][9602988]"
   ]
  },
  {
   "cell_type": "code",
   "execution_count": 7,
   "metadata": {},
   "outputs": [],
   "source": [
    "data['Date'] = pd.to_datetime(data['Date'])"
   ]
  },
  {
   "cell_type": "code",
   "execution_count": 8,
   "metadata": {},
   "outputs": [
    {
     "data": {
      "text/plain": [
       "Ticker                   object\n",
       "Date             datetime64[ns]\n",
       "Time                     object\n",
       "Open                     object\n",
       "High                     object\n",
       "Low                      object\n",
       "Close                    object\n",
       "Volume                   object\n",
       "Open_Interest            object\n",
       "dtype: object"
      ]
     },
     "execution_count": 8,
     "metadata": {},
     "output_type": "execute_result"
    }
   ],
   "source": [
    "data.dtypes"
   ]
  },
  {
   "cell_type": "code",
   "execution_count": 9,
   "metadata": {},
   "outputs": [],
   "source": [
    "june1_data = data[(data['Date']=='2020-06-01')]"
   ]
  },
  {
   "cell_type": "code",
   "execution_count": 10,
   "metadata": {},
   "outputs": [
    {
     "data": {
      "text/plain": [
       "(52170, 9)"
      ]
     },
     "execution_count": 10,
     "metadata": {},
     "output_type": "execute_result"
    }
   ],
   "source": [
    "june1_data.shape"
   ]
  },
  {
   "cell_type": "code",
   "execution_count": 11,
   "metadata": {},
   "outputs": [],
   "source": [
    "june1_data.to_csv('june1_data_combined.csv')"
   ]
  },
  {
   "cell_type": "code",
   "execution_count": 2,
   "metadata": {},
   "outputs": [],
   "source": [
    "june1_data = pd.read_csv('june1_data_combined.csv')"
   ]
  },
  {
   "cell_type": "code",
   "execution_count": 12,
   "metadata": {},
   "outputs": [],
   "source": [
    "indices = june1_data['Ticker'].unique()"
   ]
  },
  {
   "cell_type": "code",
   "execution_count": 13,
   "metadata": {},
   "outputs": [],
   "source": [
    "indices = indices.tolist()"
   ]
  },
  {
   "cell_type": "code",
   "execution_count": 14,
   "metadata": {},
   "outputs": [],
   "source": [
    "for i in range(len(indices)):\n",
    "    indices[i] = indices[i].removesuffix('.NFO')"
   ]
  },
  {
   "cell_type": "code",
   "execution_count": 15,
   "metadata": {},
   "outputs": [],
   "source": [
    "for i in range(len(indices)):\n",
    "    indices[i] = indices[i][9:]"
   ]
  },
  {
   "cell_type": "code",
   "execution_count": 16,
   "metadata": {},
   "outputs": [],
   "source": [
    "indices = indices[:-3]"
   ]
  },
  {
   "cell_type": "code",
   "execution_count": 17,
   "metadata": {},
   "outputs": [
    {
     "name": "stdout",
     "output_type": "stream",
     "text": [
      "['04JUN2014200CE', '04JUN2014200PE', '04JUN2014300PE', '04JUN2014500PE', '04JUN2015000PE', '04JUN2015300PE', '04JUN2015500CE', '04JUN2015500PE', '04JUN2015600PE', '04JUN2015700PE', '04JUN2015800PE', '04JUN2015900PE', '04JUN2016000CE', '04JUN2016000PE', '04JUN2016100PE', '04JUN2016200PE', '04JUN2016300PE', '04JUN2016400PE', '04JUN2016500CE', '04JUN2016500PE', '04JUN2016600CE', '04JUN2016600PE', '04JUN2016700PE', '04JUN2016800PE', '04JUN2016900PE', '04JUN2017000CE', '04JUN2017000PE', '04JUN2017100PE', '04JUN2017200CE', '04JUN2017200PE', '04JUN2017300CE', '04JUN2017300PE', '04JUN2017400CE', '04JUN2017400PE', '04JUN2017500CE', '04JUN2017500PE', '04JUN2017600CE', '04JUN2017600PE', '04JUN2017700CE', '04JUN2017700PE', '04JUN2017800CE', '04JUN2017800PE', '04JUN2017900CE', '04JUN2017900PE', '04JUN2018000CE', '04JUN2018000PE', '04JUN2018100CE', '04JUN2018100PE', '04JUN2018200CE', '04JUN2018200PE', '04JUN2018300CE', '04JUN2018300PE', '04JUN2018400CE', '04JUN2018400PE', '04JUN2018500CE', '04JUN2018500PE', '04JUN2018600CE', '04JUN2018600PE', '04JUN2018700CE', '04JUN2018700PE', '04JUN2018800CE', '04JUN2018800PE', '04JUN2018900CE', '04JUN2018900PE', '04JUN2019000CE', '04JUN2019000PE', '04JUN2019100CE', '04JUN2019100PE', '04JUN2019200CE', '04JUN2019200PE', '04JUN2019300CE', '04JUN2019300PE', '04JUN2019400CE', '04JUN2019400PE', '04JUN2019500CE', '04JUN2019500PE', '04JUN2019600CE', '04JUN2019600PE', '04JUN2019700CE', '04JUN2019700PE', '04JUN2019800CE', '04JUN2019800PE', '04JUN2019900CE', '04JUN2019900PE', '04JUN2020000CE', '04JUN2020000PE', '04JUN2020100CE', '04JUN2020100PE', '04JUN2020200CE', '04JUN2020200PE', '04JUN2020300CE', '04JUN2020300PE', '04JUN2020400CE', '04JUN2020400PE', '04JUN2020500CE', '04JUN2020500PE', '04JUN2020600CE', '04JUN2020600PE', '04JUN2020700CE', '04JUN2020700PE', '04JUN2020800CE', '04JUN2020800PE', '04JUN2020900CE', '04JUN2020900PE', '04JUN2021000CE', '04JUN2021000PE', '04JUN2021100CE', '04JUN2021100PE', '04JUN2021200CE', '04JUN2021200PE', '04JUN2021300CE', '04JUN2021300PE', '04JUN2021400CE', '04JUN2021400PE', '04JUN2021500CE', '04JUN2021500PE', '04JUN2021600CE', '04JUN2021600PE', '04JUN2021700CE', '04JUN2021800CE', '04JUN2021900CE', '04JUN2022000CE', '04JUN2022000PE', '04JUN2022100CE', '04JUN2022200CE', '04JUN2022300CE', '04JUN2022400CE', '04JUN2022500CE', '04JUN2022600CE', '04JUN2022700CE', '04JUN2022800CE', '04JUN2022900CE', '04JUN2023000CE', '04JUN2023100CE', '04JUN2023200CE', '04JUN2023300CE', '04JUN2023400CE', '04JUN2023500CE', '04JUN2023600CE', '04JUN2023700CE', '04JUN2023800CE', '04JUN2023900CE', '04JUN2024000CE', '04JUN2024100CE', '04JUN2024200CE', '04JUN2024300CE', '04JUN2024500CE', '11JUN2015000PE', '11JUN2015500PE', '11JUN2016000PE', '11JUN2016500PE', '11JUN2017000PE', '11JUN2017500PE', '11JUN2017700PE', '11JUN2017800PE', '11JUN2017900PE', '11JUN2018000CE', '11JUN2018000PE', '11JUN2018100PE', '11JUN2018200CE', '11JUN2018200PE', '11JUN2018500CE', '11JUN2018500PE', '11JUN2018600PE', '11JUN2019000CE', '11JUN2019000PE', '11JUN2019100CE', '11JUN2019200PE', '11JUN2019300CE', '11JUN2019400PE', '11JUN2019500CE', '11JUN2019500PE', '11JUN2019600CE', '11JUN2019800CE', '11JUN2019800PE', '11JUN2020000CE', '11JUN2020000PE', '11JUN2020100CE', '11JUN2020100PE', '11JUN2020200CE', '11JUN2020500CE', '11JUN2020500PE', '11JUN2021000CE', '11JUN2021000PE', '11JUN2021500CE', '11JUN2022000CE', '11JUN2023000CE', '11JUN2023500CE', '11JUN2024000CE', '25JUN2014200PE', '25JUN2014500PE', '25JUN2015000CE', '25JUN2015000PE', '25JUN2015200PE', '25JUN2015500PE', '25JUN2016000CE', '25JUN2016000PE', '25JUN2016500CE', '25JUN2016500PE', '25JUN2016600PE', '25JUN2016800PE', '25JUN2016900PE', '25JUN2017000CE', '25JUN2017000PE', '25JUN2017100PE', '25JUN2017200CE', '25JUN2017200PE', '25JUN2017300CE', '25JUN2017300PE', '25JUN2017400PE', '25JUN2017500CE', '25JUN2017500PE', '25JUN2017600CE', '25JUN2017600PE', '25JUN2017700CE', '25JUN2017700PE', '25JUN2017800CE', '25JUN2017800PE', '25JUN2017900CE', '25JUN2017900PE', '25JUN2018000CE', '25JUN2018000PE', '25JUN2018100CE', '25JUN2018100PE', '25JUN2018200CE', '25JUN2018200PE', '25JUN2018300CE', '25JUN2018300PE', '25JUN2018400CE', '25JUN2018400PE', '25JUN2018500CE', '25JUN2018500PE', '25JUN2018600CE', '25JUN2018600PE', '25JUN2018700CE', '25JUN2018700PE', '25JUN2018800CE', '25JUN2018800PE', '25JUN2018900CE', '25JUN2018900PE', '25JUN2019000CE', '25JUN2019000PE', '25JUN2019100CE', '25JUN2019100PE', '25JUN2019200CE', '25JUN2019200PE', '25JUN2019300CE', '25JUN2019300PE', '25JUN2019400CE', '25JUN2019400PE', '25JUN2019500CE', '25JUN2019500PE', '25JUN2019600CE', '25JUN2019600PE', '25JUN2019700CE', '25JUN2019700PE', '25JUN2019800CE', '25JUN2019800PE', '25JUN2019900CE', '25JUN2019900PE', '25JUN2020000CE', '25JUN2020000PE', '25JUN2020100CE', '25JUN2020100PE', '25JUN2020200CE', '25JUN2020200PE', '25JUN2020300CE', '25JUN2020300PE', '25JUN2020400CE', '25JUN2020400PE', '25JUN2020500CE', '25JUN2020500PE', '25JUN2020600CE', '25JUN2020700CE', '25JUN2020800CE', '25JUN2021000CE', '25JUN2021000PE', '25JUN2021400CE', '25JUN2021500CE', '25JUN2021500PE', '25JUN2021800CE', '25JUN2022000CE', '25JUN2022000PE', '25JUN2022500CE', '25JUN2022500PE', '25JUN2023000CE', '25JUN2023000PE', '25JUN2023500CE', '25JUN2024000CE', '25JUN2024000PE', '25JUN2024500CE', '25JUN2024500PE', '30JUL2015000PE', '30JUL2016000PE', '30JUL2017000PE', '30JUL2018000CE', '30JUL2018000PE', '30JUL2019000CE', '30JUL2019000PE', '30JUL2020000CE', '30JUL2020000PE', '30JUL2021000CE', '30JUL2021500CE', '30JUL2022000CE', '30JUL2023000CE', '30JUL2024000CE']\n"
     ]
    }
   ],
   "source": [
    "print(indices)"
   ]
  },
  {
   "cell_type": "code",
   "execution_count": 18,
   "metadata": {},
   "outputs": [],
   "source": [
    "dates = set(index[7:] for index in indices)"
   ]
  },
  {
   "cell_type": "code",
   "execution_count": 19,
   "metadata": {},
   "outputs": [
    {
     "name": "stdout",
     "output_type": "stream",
     "text": [
      "['14200CE', '14200PE', '14300PE', '14500PE', '15000CE', '15000PE', '15200PE', '15300PE', '15500CE', '15500PE', '15600PE', '15700PE', '15800PE', '15900PE', '16000CE', '16000PE', '16100PE', '16200PE', '16300PE', '16400PE', '16500CE', '16500PE', '16600CE', '16600PE', '16700PE', '16800PE', '16900PE', '17000CE', '17000PE', '17100PE', '17200CE', '17200PE', '17300CE', '17300PE', '17400CE', '17400PE', '17500CE', '17500PE', '17600CE', '17600PE', '17700CE', '17700PE', '17800CE', '17800PE', '17900CE', '17900PE', '18000CE', '18000PE', '18100CE', '18100PE', '18200CE', '18200PE', '18300CE', '18300PE', '18400CE', '18400PE', '18500CE', '18500PE', '18600CE', '18600PE', '18700CE', '18700PE', '18800CE', '18800PE', '18900CE', '18900PE', '19000CE', '19000PE', '19100CE', '19100PE', '19200CE', '19200PE', '19300CE', '19300PE', '19400CE', '19400PE', '19500CE', '19500PE', '19600CE', '19600PE', '19700CE', '19700PE', '19800CE', '19800PE', '19900CE', '19900PE', '20000CE', '20000PE', '20100CE', '20100PE', '20200CE', '20200PE', '20300CE', '20300PE', '20400CE', '20400PE', '20500CE', '20500PE', '20600CE', '20600PE', '20700CE', '20700PE', '20800CE', '20800PE', '20900CE', '20900PE', '21000CE', '21000PE', '21100CE', '21100PE', '21200CE', '21200PE', '21300CE', '21300PE', '21400CE', '21400PE', '21500CE', '21500PE', '21600CE', '21600PE', '21700CE', '21800CE', '21900CE', '22000CE', '22000PE', '22100CE', '22200CE', '22300CE', '22400CE', '22500CE', '22500PE', '22600CE', '22700CE', '22800CE', '22900CE', '23000CE', '23000PE', '23100CE', '23200CE', '23300CE', '23400CE', '23500CE', '23600CE', '23700CE', '23800CE', '23900CE', '24000CE', '24000PE', '24100CE', '24200CE', '24300CE', '24500CE', '24500PE']\n"
     ]
    }
   ],
   "source": [
    "dates = list(dates)\n",
    "dates.sort()\n",
    "print(dates)"
   ]
  },
  {
   "cell_type": "code",
   "execution_count": 20,
   "metadata": {},
   "outputs": [],
   "source": [
    "for string in dates:\n",
    "    june1_data[june1_data['Ticker'].str.contains(string)].to_csv('june1_data_'+string+'.csv')"
   ]
  },
  {
   "cell_type": "code",
   "execution_count": 21,
   "metadata": {},
   "outputs": [],
   "source": [
    "for string in ['-I', '-II', '-III']:\n",
    "    june1_data[june1_data['Ticker'].str.contains(string)].to_csv('june1_data_'+string[1:]+'.csv')"
   ]
  }
 ],
 "metadata": {
  "interpreter": {
   "hash": "a5e9bb5c8109d9c89e3540dfae7ab7a0527331017fc9eeaf677245afa113f1a5"
  },
  "kernelspec": {
   "display_name": "Python 3.9.7 ('base')",
   "language": "python",
   "name": "python3"
  },
  "language_info": {
   "codemirror_mode": {
    "name": "ipython",
    "version": 3
   },
   "file_extension": ".py",
   "mimetype": "text/x-python",
   "name": "python",
   "nbconvert_exporter": "python",
   "pygments_lexer": "ipython3",
   "version": "3.9.7"
  },
  "orig_nbformat": 4
 },
 "nbformat": 4,
 "nbformat_minor": 2
}
